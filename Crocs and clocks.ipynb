{
 "cells": [
  {
   "cell_type": "code",
   "execution_count": 1,
   "metadata": {},
   "outputs": [
    {
     "name": "stderr",
     "output_type": "stream",
     "text": [
      "Using TensorFlow backend.\n"
     ]
    }
   ],
   "source": [
    "import keras\n",
    "from keras.models import Sequential\n",
    "from keras.layers.core import *\n",
    "from keras.layers.convolutional import *\n",
    "from keras.models import Model\n",
    "from keras.layers import Input, Flatten, Dense, Dropout, Lambda\n",
    "from keras.optimizers import RMSprop, Adam, SGD\n",
    "from keras import backend as K"
   ]
  },
  {
   "cell_type": "code",
   "execution_count": 2,
   "metadata": {
    "collapsed": true
   },
   "outputs": [],
   "source": [
    "import numpy as np"
   ]
  },
  {
   "cell_type": "code",
   "execution_count": 3,
   "metadata": {
    "collapsed": true
   },
   "outputs": [],
   "source": [
    "import matplotlib.pyplot as plt\n",
    "%matplotlib inline"
   ]
  },
  {
   "cell_type": "code",
   "execution_count": 4,
   "metadata": {
    "collapsed": true
   },
   "outputs": [],
   "source": [
    "import scipy\n",
    "from scipy import misc\n",
    "import os"
   ]
  },
  {
   "cell_type": "code",
   "execution_count": 5,
   "metadata": {
    "collapsed": true
   },
   "outputs": [],
   "source": [
    "X_all = np.empty((0,32,32,3))\n",
    "y_all = np.concatenate((np.zeros((500,)), np.ones((500,))), axis=0).astype('int')\n",
    "for im in os.listdir('clocks_crocodiles/clock/'):\n",
    "    X_all = np.append(X_all, np.expand_dims(misc.imread('clocks_crocodiles/clock/'+im), axis=0), axis=0)\n",
    "for im in os.listdir('clocks_crocodiles/crocodile/'):\n",
    "    X_all = np.append(X_all, np.expand_dims(misc.imread('clocks_crocodiles/crocodile/'+im), axis=0), axis=0)\n",
    "X_all = X_all.astype('float')\n",
    "X_all = X_all / 255"
   ]
  },
  {
   "cell_type": "code",
   "execution_count": 6,
   "metadata": {
    "collapsed": true
   },
   "outputs": [],
   "source": [
    "def get_set():\n",
    "    X_all = np.empty((0,32,32,3))\n",
    "    y_all = np.concatenate((np.zeros((500,)), np.ones((500,))), axis=0).astype('int')\n",
    "    for im in os.listdir('clocks_crocodiles/clock/'):\n",
    "        X_all = np.append(X_all, np.expand_dims(misc.imread('clocks_crocodiles/clock/'+im), axis=0), axis=0)\n",
    "    for im in os.listdir('clocks_crocodiles/crocodile/'):\n",
    "        X_all = np.append(X_all, np.expand_dims(misc.imread('clocks_crocodiles/crocodile/'+im), axis=0), axis=0)\n",
    "    X_all = X_all.astype('float')\n",
    "    X_all = X_all / 255\n",
    "    r1 = np.random.choice(np.arange(500), 450, replace=False)\n",
    "    r2 = np.random.choice(np.arange(500), 450, replace=False)\n",
    "    X_train = np.concatenate((X_all[y_all == 0][r1], \n",
    "                              X_all[y_all == 1][r2]), axis=0)\n",
    "    X_test = np.concatenate((np.delete(X_all[y_all == 0], r1, axis=0),\n",
    "                             np.delete(X_all[y_all == 1], r2, axis=0)), axis=0)\n",
    "    y_train = np.concatenate((np.zeros((450,)), np.ones((450,))), axis=0).astype('int')\n",
    "    y_test = np.concatenate((np.zeros((50,)), np.ones((50,))), axis=0).astype('int')\n",
    "    y_train = keras.utils.to_categorical(y_train, 2)\n",
    "    y_test = keras.utils.to_categorical(y_test, 2)\n",
    "    return (X_train, y_train), (X_test, y_test)"
   ]
  },
  {
   "cell_type": "code",
   "execution_count": 7,
   "metadata": {
    "collapsed": true
   },
   "outputs": [],
   "source": [
    "def show_random_im(X, y):\n",
    "    r = int(np.random.uniform(0,X.shape[0]))\n",
    "    plt.imshow(X[r,:,:,:])\n",
    "    plt.show()\n",
    "    print(y[r])\n",
    "def predict_random(X, y, model):\n",
    "    r = int(np.random.uniform(0,X.shape[0]))\n",
    "    plt.imshow(X[r,:,:,:])\n",
    "    plt.show()\n",
    "    print(y[r].argmax(), model.predict(np.expand_dims(X[r], axis=0)).argmax())"
   ]
  },
  {
   "cell_type": "code",
   "execution_count": 8,
   "metadata": {
    "collapsed": true
   },
   "outputs": [],
   "source": [
    "def create_base_network(input_dim):    \n",
    "    cnn = Sequential()\n",
    "    cnn.add(Conv2D(32, kernel_size=(3, 3), activation='relu', input_shape=input_dim))\n",
    "    cnn.add(Conv2D(32, kernel_size=(3, 3), activation='relu'))\n",
    "    cnn.add(MaxPooling2D(pool_size=(2, 2)))\n",
    "    cnn.add(Dropout(0.25))\n",
    "         \n",
    "    cnn.add(Conv2D(64, kernel_size=(3, 3), activation='relu'))\n",
    "    cnn.add(Conv2D(64, kernel_size=(3, 3), activation='relu'))\n",
    "    cnn.add(MaxPooling2D(pool_size=(2, 2)))\n",
    "    cnn.add(Dropout(0.25))\n",
    "         \n",
    "    cnn.add(Flatten())\n",
    "    cnn.add(Dense(128, activation='relu'))\n",
    "    cnn.add(Dropout(0.1))\n",
    "    cnn.add(Dense(2, activation='softmax'))\n",
    "    return cnn"
   ]
  },
  {
   "cell_type": "code",
   "execution_count": 9,
   "metadata": {
    "collapsed": true
   },
   "outputs": [],
   "source": [
    "(X_train, y_train), (X_test, y_test) = get_set()"
   ]
  },
  {
   "cell_type": "code",
   "execution_count": 10,
   "metadata": {
    "collapsed": true
   },
   "outputs": [],
   "source": [
    "input_dim = X_train[0].shape\n",
    "epochs = 30"
   ]
  },
  {
   "cell_type": "code",
   "execution_count": 11,
   "metadata": {
    "collapsed": true
   },
   "outputs": [],
   "source": [
    "cnn1 = create_base_network(input_dim)"
   ]
  },
  {
   "cell_type": "code",
   "execution_count": 12,
   "metadata": {},
   "outputs": [
    {
     "name": "stdout",
     "output_type": "stream",
     "text": [
      "_________________________________________________________________\n",
      "Layer (type)                 Output Shape              Param #   \n",
      "=================================================================\n",
      "conv2d_1 (Conv2D)            (None, 30, 30, 32)        896       \n",
      "_________________________________________________________________\n",
      "conv2d_2 (Conv2D)            (None, 28, 28, 32)        9248      \n",
      "_________________________________________________________________\n",
      "max_pooling2d_1 (MaxPooling2 (None, 14, 14, 32)        0         \n",
      "_________________________________________________________________\n",
      "dropout_1 (Dropout)          (None, 14, 14, 32)        0         \n",
      "_________________________________________________________________\n",
      "conv2d_3 (Conv2D)            (None, 12, 12, 64)        18496     \n",
      "_________________________________________________________________\n",
      "conv2d_4 (Conv2D)            (None, 10, 10, 64)        36928     \n",
      "_________________________________________________________________\n",
      "max_pooling2d_2 (MaxPooling2 (None, 5, 5, 64)          0         \n",
      "_________________________________________________________________\n",
      "dropout_2 (Dropout)          (None, 5, 5, 64)          0         \n",
      "_________________________________________________________________\n",
      "flatten_1 (Flatten)          (None, 1600)              0         \n",
      "_________________________________________________________________\n",
      "dense_1 (Dense)              (None, 128)               204928    \n",
      "_________________________________________________________________\n",
      "dropout_3 (Dropout)          (None, 128)               0         \n",
      "_________________________________________________________________\n",
      "dense_2 (Dense)              (None, 2)                 258       \n",
      "=================================================================\n",
      "Total params: 270,754\n",
      "Trainable params: 270,754\n",
      "Non-trainable params: 0\n",
      "_________________________________________________________________\n",
      "None\n"
     ]
    }
   ],
   "source": [
    "rate = 0.0001\n",
    "sgd = SGD(lr=rate)\n",
    "adam = Adam(lr=rate)\n",
    "rms = RMSprop(lr=rate)\n",
    "cnn1.compile(loss=\"binary_crossentropy\", optimizer=rms, metrics=[\"accuracy\"])\n",
    "print(cnn1.summary())"
   ]
  },
  {
   "cell_type": "code",
   "execution_count": 13,
   "metadata": {},
   "outputs": [
    {
     "name": "stdout",
     "output_type": "stream",
     "text": [
      "Train on 810 samples, validate on 90 samples\n",
      "Epoch 1/30\n",
      "810/810 [==============================] - 7s 9ms/step - loss: 0.6725 - acc: 0.5556 - val_loss: 0.7248 - val_acc: 0.0111\n",
      "Epoch 2/30\n",
      "810/810 [==============================] - 6s 8ms/step - loss: 0.6465 - acc: 0.5642 - val_loss: 0.6473 - val_acc: 0.9111\n",
      "Epoch 3/30\n",
      "810/810 [==============================] - 6s 8ms/step - loss: 0.5843 - acc: 0.6691 - val_loss: 0.5372 - val_acc: 0.9111\n",
      "Epoch 4/30\n",
      "810/810 [==============================] - 6s 8ms/step - loss: 0.5046 - acc: 0.7617 - val_loss: 0.7173 - val_acc: 0.6333\n",
      "Epoch 5/30\n",
      "810/810 [==============================] - 6s 8ms/step - loss: 0.4467 - acc: 0.7914 - val_loss: 0.2885 - val_acc: 0.9444\n",
      "Epoch 6/30\n",
      "810/810 [==============================] - 6s 8ms/step - loss: 0.4070 - acc: 0.8123 - val_loss: 0.3272 - val_acc: 0.9111\n",
      "Epoch 7/30\n",
      "810/810 [==============================] - 6s 8ms/step - loss: 0.3862 - acc: 0.8210 - val_loss: 0.6647 - val_acc: 0.7000\n",
      "Epoch 8/30\n",
      "810/810 [==============================] - 6s 8ms/step - loss: 0.3616 - acc: 0.8432 - val_loss: 0.3967 - val_acc: 0.8222\n",
      "Epoch 9/30\n",
      "810/810 [==============================] - 6s 8ms/step - loss: 0.3569 - acc: 0.8321 - val_loss: 0.2923 - val_acc: 0.9000\n",
      "Epoch 10/30\n",
      "810/810 [==============================] - 6s 8ms/step - loss: 0.3413 - acc: 0.8691 - val_loss: 0.1995 - val_acc: 0.9333\n",
      "Epoch 11/30\n",
      "810/810 [==============================] - 6s 8ms/step - loss: 0.3118 - acc: 0.8630 - val_loss: 0.5720 - val_acc: 0.7667\n",
      "Epoch 12/30\n",
      "810/810 [==============================] - 6s 8ms/step - loss: 0.3194 - acc: 0.8716 - val_loss: 0.3405 - val_acc: 0.8667\n",
      "Epoch 13/30\n",
      "810/810 [==============================] - 7s 8ms/step - loss: 0.3026 - acc: 0.8716 - val_loss: 0.2931 - val_acc: 0.8889\n",
      "Epoch 14/30\n",
      "810/810 [==============================] - 7s 8ms/step - loss: 0.2931 - acc: 0.8827 - val_loss: 0.3219 - val_acc: 0.8778\n",
      "Epoch 15/30\n",
      "810/810 [==============================] - 7s 8ms/step - loss: 0.2969 - acc: 0.8815 - val_loss: 0.6216 - val_acc: 0.7222\n",
      "Epoch 16/30\n",
      "810/810 [==============================] - 6s 8ms/step - loss: 0.2662 - acc: 0.8975 - val_loss: 0.1558 - val_acc: 0.9222\n",
      "Epoch 17/30\n",
      "810/810 [==============================] - 6s 8ms/step - loss: 0.2734 - acc: 0.8963 - val_loss: 0.2339 - val_acc: 0.9222\n",
      "Epoch 18/30\n",
      "810/810 [==============================] - 6s 8ms/step - loss: 0.2705 - acc: 0.9049 - val_loss: 0.6114 - val_acc: 0.7444\n",
      "Epoch 19/30\n",
      "810/810 [==============================] - 7s 8ms/step - loss: 0.2692 - acc: 0.8938 - val_loss: 0.2208 - val_acc: 0.9000\n",
      "Epoch 20/30\n",
      "810/810 [==============================] - 7s 8ms/step - loss: 0.2537 - acc: 0.9049 - val_loss: 0.2597 - val_acc: 0.9000\n",
      "Epoch 21/30\n",
      "810/810 [==============================] - 6s 8ms/step - loss: 0.2444 - acc: 0.8963 - val_loss: 0.2872 - val_acc: 0.8889\n",
      "Epoch 22/30\n",
      "810/810 [==============================] - 7s 8ms/step - loss: 0.2271 - acc: 0.9086 - val_loss: 0.1073 - val_acc: 0.9556\n",
      "Epoch 23/30\n",
      "810/810 [==============================] - 6s 8ms/step - loss: 0.2272 - acc: 0.9086 - val_loss: 0.1847 - val_acc: 0.9222\n",
      "Epoch 24/30\n",
      "810/810 [==============================] - 6s 8ms/step - loss: 0.2265 - acc: 0.9062 - val_loss: 0.2390 - val_acc: 0.9000\n",
      "Epoch 25/30\n",
      "810/810 [==============================] - 6s 8ms/step - loss: 0.2062 - acc: 0.9284 - val_loss: 0.1981 - val_acc: 0.9000\n",
      "Epoch 26/30\n",
      "810/810 [==============================] - 6s 8ms/step - loss: 0.1965 - acc: 0.9284 - val_loss: 1.0232 - val_acc: 0.6444\n",
      "Epoch 27/30\n",
      "810/810 [==============================] - 6s 8ms/step - loss: 0.2024 - acc: 0.9235 - val_loss: 0.2127 - val_acc: 0.9111\n",
      "Epoch 28/30\n",
      "810/810 [==============================] - 7s 8ms/step - loss: 0.1864 - acc: 0.9333 - val_loss: 0.1769 - val_acc: 0.9333\n",
      "Epoch 29/30\n",
      "810/810 [==============================] - 6s 8ms/step - loss: 0.2011 - acc: 0.9235 - val_loss: 0.2488 - val_acc: 0.8889\n",
      "Epoch 30/30\n",
      "810/810 [==============================] - 7s 8ms/step - loss: 0.1877 - acc: 0.9284 - val_loss: 0.2040 - val_acc: 0.9000\n"
     ]
    },
    {
     "data": {
      "text/plain": [
       "<keras.callbacks.History at 0x119c96f28>"
      ]
     },
     "execution_count": 13,
     "metadata": {},
     "output_type": "execute_result"
    }
   ],
   "source": [
    "cnn1.fit(X_train, y_train, batch_size=4, epochs=epochs, validation_split=0.1)"
   ]
  },
  {
   "cell_type": "code",
   "execution_count": 14,
   "metadata": {},
   "outputs": [
    {
     "name": "stdout",
     "output_type": "stream",
     "text": [
      "Точность работы на тестовых данных: 92.00%\n",
      "Точность работы на тренировочных данных: 93.22%\n"
     ]
    }
   ],
   "source": [
    "scores = cnn1.evaluate(X_test, y_test, verbose=0)\n",
    "print(\"Точность работы на тестовых данных: %.2f%%\" % (scores[1]*100))\n",
    "scores = cnn1.evaluate(X_train, y_train, verbose=0)\n",
    "print(\"Точность работы на тренировочных данных: %.2f%%\" % (scores[1]*100))"
   ]
  },
  {
   "cell_type": "code",
   "execution_count": 57,
   "metadata": {
    "collapsed": true
   },
   "outputs": [],
   "source": [
    "def get_pairs(n, X):\n",
    "    pairs = [np.zeros((n, 32, 32, 3)) for i in range(2)]\n",
    "    targets=np.zeros((n,))\n",
    "    targets[n//2:] = 1\n",
    "    for i in range(n):\n",
    "        if (i < n//2):\n",
    "            pairs[0][i,:,:,:] = X[round(np.random.uniform(0+(i%2)*450, 449+(i%2)*450))]\n",
    "            pairs[1][i,:,:,:] = X[round(np.random.uniform(0+(i%2)*450, 449+(i%2)*450))]\n",
    "        else:\n",
    "            pairs[0][i,:,:,:] = X[round(np.random.uniform(0+((i+1)%2)*450, 449+((i+1)%2)*450))]\n",
    "            pairs[1][i,:,:,:] = X[round(np.random.uniform(0+(i%2)*450, 449+(i%2)*450))]\n",
    "    return pairs, targets"
   ]
  },
  {
   "cell_type": "code",
   "execution_count": 55,
   "metadata": {
    "collapsed": true
   },
   "outputs": [],
   "source": [
    "def create_body(input_shape):\n",
    "    input = Input(shape=input_shape)\n",
    "    \n",
    "    x = Conv2D(32, (3,3), activation='relu')(input)\n",
    "    x = Conv2D(32, (3,3), activation='relu')(x)\n",
    "    x = MaxPooling2D(pool_size=(2, 2))(x)\n",
    "    x = Dropout(0.25)(x)\n",
    "    \n",
    "    x = Conv2D(64, (3,3), activation='relu')(x)\n",
    "    x = Conv2D(64, (3,3), activation='relu')(x)\n",
    "    x = MaxPooling2D(pool_size=(2, 2))(x)\n",
    "    x = Dropout(0.25)(x)\n",
    "    \n",
    "    x = Flatten()(x)\n",
    "    x = Dense(128, activation='relu')(x)\n",
    "    return Model(input, x)"
   ]
  },
  {
   "cell_type": "code",
   "execution_count": 58,
   "metadata": {
    "collapsed": true
   },
   "outputs": [],
   "source": [
    "num_classes_siam = 2\n",
    "epochs_siam = 10\n",
    "input_shape_siam = X_train.shape[1:]"
   ]
  },
  {
   "cell_type": "code",
   "execution_count": 60,
   "metadata": {},
   "outputs": [],
   "source": [
    "p, t = get_pairs(40000, X_train)"
   ]
  },
  {
   "cell_type": "code",
   "execution_count": 72,
   "metadata": {
    "collapsed": true
   },
   "outputs": [],
   "source": [
    "x_tr = np.append(np.expand_dims(np.concatenate((p[0][:18000], p[0][20000:38000]), axis=0), axis=1), \n",
    "           np.expand_dims(np.concatenate((p[1][:18000], p[1][20000:38000]), axis=0), axis=1), axis=1)\n",
    "y_tr = np.array(y_s_trn).reshape(36000).astype(np.int)\n",
    "x_te = np.append(np.expand_dims(np.concatenate((p[0][18000:20000], p[0][38000:40000]), axis=0), axis=1), \n",
    "           np.expand_dims(np.concatenate((p[1][18000:20000], p[1][38000:40000]), axis=0), axis=1), axis=1)\n",
    "y_te = np.array(y_s_tst).reshape(4000).astype(np.int)"
   ]
  },
  {
   "cell_type": "code",
   "execution_count": 63,
   "metadata": {},
   "outputs": [],
   "source": [
    "body_network = create_body(input_shape_siam)\n",
    "input_a = Input(shape=input_shape_siam)\n",
    "input_b = Input(shape=input_shape_siam)"
   ]
  },
  {
   "cell_type": "code",
   "execution_count": 66,
   "metadata": {
    "collapsed": true
   },
   "outputs": [],
   "source": [
    "def euclidean_distance(vects):\n",
    "    x, y = vects\n",
    "    return K.sqrt(K.maximum(K.sum(K.square(x - y), axis=1, keepdims=True), K.epsilon()))\n",
    "def eucl_dist_output_shape(shapes):\n",
    "    shape1, shape2 = shapes\n",
    "    return (shape1[0], 1)"
   ]
  },
  {
   "cell_type": "code",
   "execution_count": 67,
   "metadata": {},
   "outputs": [],
   "source": [
    "a = body_network(input_a)\n",
    "b = body_network(input_b)\n",
    "\n",
    "distance = Lambda(euclidean_distance,\n",
    "                  output_shape=eucl_dist_output_shape)([a, b])\n",
    "\n",
    "model = Model([input_a, input_b], distance)"
   ]
  },
  {
   "cell_type": "code",
   "execution_count": 70,
   "metadata": {},
   "outputs": [
    {
     "name": "stdout",
     "output_type": "stream",
     "text": [
      "__________________________________________________________________________________________________\n",
      "Layer (type)                    Output Shape         Param #     Connected to                     \n",
      "==================================================================================================\n",
      "input_3 (InputLayer)            (None, 32, 32, 3)    0                                            \n",
      "__________________________________________________________________________________________________\n",
      "input_4 (InputLayer)            (None, 32, 32, 3)    0                                            \n",
      "__________________________________________________________________________________________________\n",
      "model_2 (Model)                 (None, 128)          270496      input_3[0][0]                    \n",
      "                                                                 input_4[0][0]                    \n",
      "__________________________________________________________________________________________________\n",
      "lambda_1 (Lambda)               (None, 1)            0           model_2[3][0]                    \n",
      "                                                                 model_2[4][0]                    \n",
      "==================================================================================================\n",
      "Total params: 270,496\n",
      "Trainable params: 270,496\n",
      "Non-trainable params: 0\n",
      "__________________________________________________________________________________________________\n",
      "None\n"
     ]
    }
   ],
   "source": [
    "model.compile(loss='binary_crossentropy', optimizer='adam', metrics=['accuracy'])\n",
    "print(model.summary())"
   ]
  },
  {
   "cell_type": "code",
   "execution_count": null,
   "metadata": {
    "collapsed": true
   },
   "outputs": [],
   "source": [
    "model.fit([x_tr[:, 0], x_tr[:, 1]], y_tr,\n",
    "          batch_size=32,\n",
    "          epochs=epochs_siam,\n",
    "          validation_split=0.1)"
   ]
  },
  {
   "cell_type": "code",
   "execution_count": null,
   "metadata": {
    "collapsed": true
   },
   "outputs": [],
   "source": [
    "scores = model.evaluate([x_te[:,0], x_te[:,1]], y_te, verbose=0)\n",
    "print(\"Точность работы на тестовых данных: %.2f%%\" % (scores[1]*100))\n",
    "scores = model.evaluate([x_tr[:,0], x_tr[:,1]], y_tr, verbose=0)\n",
    "print(\"Точность работы на тренировочных данных: %.2f%%\" % (scores[1]*100))"
   ]
  },
  {
   "cell_type": "code",
   "execution_count": 15,
   "metadata": {
    "collapsed": true
   },
   "outputs": [],
   "source": [
    "cnn1_p = Sequential()\n",
    "cnn1_p.add(Conv2D(32, kernel_size=(3, 3), activation='relu', input_shape=input_dim, weights=cnn1.layers[0].get_weights()))\n",
    "cnn1_p.add(Conv2D(32, kernel_size=(3, 3), activation='relu', weights=cnn1.layers[1].get_weights()))\n",
    "cnn1_p.add(MaxPooling2D(pool_size=(2, 2), weights=cnn1.layers[2].get_weights()))\n",
    "cnn1_p.add(Dropout(0.25, weights=cnn1.layers[3].get_weights()))\n",
    "         \n",
    "cnn1_p.add(Conv2D(64, kernel_size=(3, 3), activation='relu', weights=cnn1.layers[4].get_weights()))\n",
    "cnn1_p.add(Conv2D(64, kernel_size=(3, 3), activation='relu', weights=cnn1.layers[5].get_weights()))\n",
    "cnn1_p.add(MaxPooling2D(pool_size=(2, 2), weights=cnn1.layers[6].get_weights()))\n",
    "cnn1_p.add(Dropout(0.25, weights=cnn1.layers[7].get_weights()))\n",
    "         \n",
    "cnn1_p.add(Flatten(weights=cnn1.layers[8].get_weights()))\n",
    "#cnn1_p.add(Dense(128, activation='relu', weights=cnn1.layers[9].get_weights()))\n",
    "#cnn1_p.add(Dropout(0.1))"
   ]
  },
  {
   "cell_type": "code",
   "execution_count": 16,
   "metadata": {
    "collapsed": true
   },
   "outputs": [],
   "source": [
    "vecs = cnn1_p.predict(X_all)"
   ]
  },
  {
   "cell_type": "code",
   "execution_count": 17,
   "metadata": {
    "collapsed": true
   },
   "outputs": [],
   "source": [
    "clocks_av = np.average(vecs[:500], axis=0)\n",
    "croc_av = np.average(vecs[500:], axis=0)"
   ]
  },
  {
   "cell_type": "code",
   "execution_count": 18,
   "metadata": {
    "collapsed": true
   },
   "outputs": [],
   "source": [
    "d = np.empty((0,2))\n",
    "for v in vecs:\n",
    "    d = np.append(d, np.expand_dims(np.array([scipy.spatial.distance.euclidean(v, clocks_av), \n",
    "                                              scipy.spatial.distance.euclidean(v, croc_av)]), axis=0), axis=0)\n",
    "d_abs = np.abs(d[:,0]-d[:,1])"
   ]
  },
  {
   "cell_type": "code",
   "execution_count": 19,
   "metadata": {
    "collapsed": true
   },
   "outputs": [],
   "source": [
    "num = 0"
   ]
  },
  {
   "cell_type": "code",
   "execution_count": 54,
   "metadata": {},
   "outputs": [
    {
     "data": {
      "image/png": "[encoded data removed]",
      "text/plain": [
       "<matplotlib.figure.Figure at 0x11a9a1f28>"
      ]
     },
     "metadata": {},
     "output_type": "display_data"
    },
    {
     "name": "stdout",
     "output_type": "stream",
     "text": [
      "34\n",
      "0.0383048057556\n",
      "[ 3.155514   3.1172092]\n"
     ]
    }
   ],
   "source": [
    "plt.imshow(X_all[d_abs.argsort()][num])\n",
    "plt.show()\n",
    "print(num)\n",
    "print(d_abs[d_abs.argsort()][num])\n",
    "print(d[d_abs.argsort()][num])\n",
    "num += 1"
   ]
  }
 ],
 "metadata": {
  "kernelspec": {
   "display_name": "Python 3",
   "language": "python",
   "name": "python3"
  },
  "language_info": {
   "codemirror_mode": {
    "name": "ipython",
    "version": 3
   },
   "file_extension": ".py",
   "mimetype": "text/x-python",
   "name": "python",
   "nbconvert_exporter": "python",
   "pygments_lexer": "ipython3",
   "version": "3.6.2"
  }
 },
 "nbformat": 4,
 "nbformat_minor": 2
}
